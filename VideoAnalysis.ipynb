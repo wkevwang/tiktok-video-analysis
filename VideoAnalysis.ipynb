{
 "cells": [
  {
   "cell_type": "code",
   "execution_count": 80,
   "id": "75cb424d-24b7-431d-aebd-c54b9e6f0361",
   "metadata": {},
   "outputs": [],
   "source": [
    "import requests\n",
    "import cv2\n",
    "import base64\n",
    "import time\n",
    "from openai import OpenAI\n",
    "import os\n",
    "from IPython.display import display, Image, Audio, Markdown, Video, HTML\n",
    "import http.client"
   ]
  },
  {
   "cell_type": "markdown",
   "id": "a33bfc7d-3b6d-4bc4-9f38-d35336baf8c5",
   "metadata": {},
   "source": [
    "# Top Videos in Niche"
   ]
  },
  {
   "cell_type": "code",
   "execution_count": 183,
   "id": "98237039-bbc0-4cd8-af6e-247d7c9d3eb4",
   "metadata": {},
   "outputs": [],
   "source": [
    "product = \"gut cleanse health supplement\""
   ]
  },
  {
   "cell_type": "code",
   "execution_count": 184,
   "id": "62f23fe2-eb25-469b-9f82-0fe91d1a70d5",
   "metadata": {},
   "outputs": [],
   "source": [
    "def download_video(url, filename):\n",
    "    # Send a HTTP request to the URL\n",
    "    response = requests.get(url, stream=True)\n",
    "\n",
    "    # Check if the request was successful\n",
    "    if response.status_code == 200:\n",
    "        # Open a local file with write-binary mode\n",
    "        with open(filename, 'wb') as file:\n",
    "            # Write the content to the file in chunks\n",
    "            for chunk in response.iter_content(chunk_size=1024):\n",
    "                file.write(chunk)\n",
    "        print(\"Download complete!\")\n",
    "    else:\n",
    "        print(\"Failed to retrieve video\")"
   ]
  },
  {
   "cell_type": "code",
   "execution_count": 185,
   "id": "1c617309-f908-4da8-8de6-67d217aeeea3",
   "metadata": {},
   "outputs": [],
   "source": [
    "def get_transcript(handle, video_id):    \n",
    "    url = \"https://tiktok-transcript.p.rapidapi.com/transcribe-tiktok-audio\"\n",
    "\n",
    "    payload = { \"url\": f\"https://www.tiktok.com/@{handle}/video/{video_id}\" }\n",
    "    headers = {\n",
    "    \t\"content-type\": \"application/x-www-form-urlencoded\",\n",
    "    \t\"X-RapidAPI-Key\": \"\",\n",
    "    \t\"X-RapidAPI-Host\": \"tiktok-transcript.p.rapidapi.com\"\n",
    "    }\n",
    "    \n",
    "    response = requests.post(url, data=payload, headers=headers)\n",
    "    data = response.json()\n",
    "    return data['response']['text']"
   ]
  },
  {
   "cell_type": "code",
   "execution_count": 186,
   "id": "5c985535-59c5-4417-9c00-a23e47d5af17",
   "metadata": {},
   "outputs": [],
   "source": [
    "number_of_shoppable_videos = 0\n",
    "transcripts = []\n",
    "\n",
    "url = \"https://tokapi-mobile-version.p.rapidapi.com/v1/search/post\"\n",
    "\n",
    "headers = {\n",
    "\t\"X-RapidAPI-Key\": \"\",\n",
    "\t\"X-RapidAPI-Host\": \"tokapi-mobile-version.p.rapidapi.com\"\n",
    "}"
   ]
  },
  {
   "cell_type": "code",
   "execution_count": 187,
   "id": "48b41980-c6c4-40ae-88f1-303e490da3e5",
   "metadata": {},
   "outputs": [
    {
     "name": "stdout",
     "output_type": "stream",
     "text": [
      "Download complete!\n"
     ]
    }
   ],
   "source": [
    "querystring = {\"keyword\": product,\"count\":\"20\",\"offset\":\"0\",\"region\":\"US\"}\n",
    "response = requests.get(url, headers=headers, params=querystring)\n",
    "data = response.json()\n",
    "for idx, video in enumerate(data['search_item_list']):\n",
    "    video_url = video['aweme_info']['video']['download_addr']['url_list'][0]\n",
    "    if video['aweme_info']['anchors'] and video['aweme_info']['anchors'][0]['component_key'] == 'anchor_complex_shop':\n",
    "        download_video(video_url, f\"video{number_of_shoppable_videos}.mp4\")\n",
    "        transcript = get_transcript(video['aweme_info']['author']['unique_id'], video['aweme_info']['aweme_id'])\n",
    "        transcripts.append(transcript)\n",
    "        number_of_shoppable_videos += 1"
   ]
  },
  {
   "cell_type": "code",
   "execution_count": 188,
   "id": "25bab36f-5dc4-46a6-ac92-33e50ae0666a",
   "metadata": {},
   "outputs": [
    {
     "name": "stdout",
     "output_type": "stream",
     "text": [
      "Download complete!\n",
      "Download complete!\n",
      "Download complete!\n"
     ]
    }
   ],
   "source": [
    "querystring = {\"keyword\": product,\"count\":\"20\",\"offset\":\"20\",\"region\":\"US\"}\n",
    "response = requests.get(url, headers=headers, params=querystring)\n",
    "data = response.json()\n",
    "for idx, video in enumerate(data['search_item_list']):\n",
    "    video_url = video['aweme_info']['video']['download_addr']['url_list'][0]\n",
    "    if video['aweme_info']['anchors'] and video['aweme_info']['anchors'][0]['component_key'] == 'anchor_complex_shop':\n",
    "        download_video(video_url, f\"video{number_of_shoppable_videos}.mp4\")\n",
    "        transcript = get_transcript(video['aweme_info']['author']['unique_id'], video['aweme_info']['aweme_id'])\n",
    "        transcripts.append(transcript)\n",
    "        number_of_shoppable_videos += 1"
   ]
  },
  {
   "cell_type": "markdown",
   "id": "b2e36df8-4487-4f0f-8d27-1c8d1cb6793e",
   "metadata": {},
   "source": [
    "# Video Frame Analysis"
   ]
  },
  {
   "cell_type": "code",
   "execution_count": 189,
   "id": "7be74943-6221-46d8-ba93-5018dcde2e0f",
   "metadata": {},
   "outputs": [],
   "source": [
    "client = OpenAI(api_key=\"\")"
   ]
  },
  {
   "cell_type": "code",
   "execution_count": 190,
   "id": "9b1d6e31-2e8b-4887-96d8-657d2c54d577",
   "metadata": {},
   "outputs": [],
   "source": [
    "responses = []\n",
    "for i in range(number_of_shoppable_videos):\n",
    "    video = cv2.VideoCapture(f\"video{i}.mp4\")\n",
    "    \n",
    "    base64Frames = []\n",
    "    while video.isOpened():\n",
    "        success, frame = video.read()\n",
    "        if not success:\n",
    "            break\n",
    "        _, buffer = cv2.imencode(\".jpg\", frame)\n",
    "        base64Frames.append(base64.b64encode(buffer).decode(\"utf-8\"))\n",
    "    \n",
    "    video.release()\n",
    "\n",
    "    PROMPT_MESSAGES = [\n",
    "        {\n",
    "            \"role\": \"user\",\n",
    "            \"content\": [\n",
    "                f\"\"\"\n",
    "This is a promotional video for {product}. Provide a brief analysis of these points:\n",
    "* Overall strategy used to promote the product\n",
    "* Facial expressions and emotions\n",
    "* Text/hooks used in the video\n",
    "* How is the product demo’ed\n",
    "\n",
    "This is the transcript of the product: {transcripts[i]}\n",
    "\n",
    "Just use plain text, no markdown.\n",
    "    \"\"\",\n",
    "                *map(lambda x: {\"image\": x, \"resize\": 768}, base64Frames[0::300]),\n",
    "            ],\n",
    "        },\n",
    "    ]\n",
    "    params = {\n",
    "        \"model\": \"gpt-4-turbo\",\n",
    "        \"messages\": PROMPT_MESSAGES,\n",
    "        \"max_tokens\": 500,\n",
    "    }\n",
    "    \n",
    "    result = client.chat.completions.create(**params)\n",
    "    responses.append(result.choices[0].message.content)"
   ]
  },
  {
   "cell_type": "code",
   "execution_count": 191,
   "id": "0ba04156-c0f6-44c4-a019-baa0ce7c7d9e",
   "metadata": {},
   "outputs": [],
   "source": [
    "message = \"\"\n",
    "for idx, r in enumerate(responses):\n",
    "    message += f\"Video {idx + 1}:\\n\"\n",
    "    message += r + '\\n\\n'"
   ]
  },
  {
   "cell_type": "code",
   "execution_count": 192,
   "id": "cabad303-d0ce-4df7-86e9-774c7d9ce39b",
   "metadata": {},
   "outputs": [],
   "source": [
    "def display_top_3_videos():\n",
    "    return HTML(\"\"\"\n",
    "    <style>\n",
    "        .video-container {\n",
    "            display: flex;\n",
    "            justify-content: space-around;\n",
    "        }\n",
    "        video {\n",
    "            width: 300px;  /* Adjust the width as needed */\n",
    "            height: auto;  /* Maintain aspect ratio */\n",
    "        }\n",
    "    </style>\n",
    "    <div class=\"video-container\">\n",
    "        <video controls>\n",
    "            <source src=\"video1.mp4\" type=\"video/mp4\">\n",
    "        </video>\n",
    "        <video controls>\n",
    "            <source src=\"video2.mp4\" type=\"video/mp4\">\n",
    "        </video>\n",
    "        <video controls>\n",
    "            <source src=\"video3.mp4\" type=\"video/mp4\">\n",
    "        </video>\n",
    "    </div>\n",
    "    \"\"\")"
   ]
  },
  {
   "cell_type": "code",
   "execution_count": 212,
   "id": "0a3abb0b-cbca-4978-9101-c7ba16b48da2",
   "metadata": {},
   "outputs": [],
   "source": [
    "PROMPT_MESSAGES = [\n",
    "    {\n",
    "        \"role\": \"user\",\n",
    "        \"content\": \"Sythesize the insights below about why these promotional videos performed well. Break it down into these categories: 1) Overall what works. 2) Hooks used. 3) Product selling points that are resonating. And 4) Call to actions that are resonating. Provide key highlights and insights rather than listing what each video did and use no more than a few short bullet points for each video.\\n\\n\" + message,\n",
    "    },\n",
    "]\n",
    "params = {\n",
    "    \"model\": \"gpt-4-turbo\",\n",
    "    \"messages\": PROMPT_MESSAGES,\n",
    "    \"max_tokens\": 2000,\n",
    "}\n",
    "\n",
    "result = client.chat.completions.create(**params)"
   ]
  },
  {
   "cell_type": "code",
   "execution_count": 213,
   "id": "ba527440-777e-466c-8c6a-dd39c8df7d2c",
   "metadata": {},
   "outputs": [],
   "source": [
    "rubric = result.choices[0].message.content"
   ]
  },
  {
   "cell_type": "code",
   "execution_count": 194,
   "id": "0a365c40-b149-41c2-bf29-a711d041d7ea",
   "metadata": {},
   "outputs": [
    {
     "data": {
      "text/html": [
       "\n",
       "    <style>\n",
       "        .video-container {\n",
       "            display: flex;\n",
       "            justify-content: space-around;\n",
       "        }\n",
       "        video {\n",
       "            width: 300px;  /* Adjust the width as needed */\n",
       "            height: auto;  /* Maintain aspect ratio */\n",
       "        }\n",
       "    </style>\n",
       "    <div class=\"video-container\">\n",
       "        <video controls>\n",
       "            <source src=\"video1.mp4\" type=\"video/mp4\">\n",
       "        </video>\n",
       "        <video controls>\n",
       "            <source src=\"video2.mp4\" type=\"video/mp4\">\n",
       "        </video>\n",
       "        <video controls>\n",
       "            <source src=\"video3.mp4\" type=\"video/mp4\">\n",
       "        </video>\n",
       "    </div>\n",
       "    "
      ],
      "text/plain": [
       "<IPython.core.display.HTML object>"
      ]
     },
     "metadata": {},
     "output_type": "display_data"
    },
    {
     "data": {
      "text/markdown": [
       "### Insights on Promotional Videos Performance\n",
       "\n",
       "#### 1) Overall What Works:\n",
       "- Direct engagement and addressing of viewer concerns such as authenticity and effectiveness resonate well.\n",
       "- Straightforward, clear messaging with step-by-step guidance simplifies viewer understanding, appealing especially to those seeking practical solutions.\n",
       "- Educational content, focusing on a structured regimen enhances long-term engagement and creates a sense of trust.\n",
       "- A mix of humor and candid testimonials, especially about experiences of intensity and benefits, aid in creating relatable content, fostering trust and curiosity.\n",
       "\n",
       "#### 2) Hooks Used:\n",
       "- Alerts about counterfeit risks and emphasis on product authenticity catch the viewer's attention by tapping into concerns about quality.\n",
       "- Simple instruction-based hooks (\"3 Steps to cleanse your GUT and COLON\") simplify the process, making the task seem feasible with minimal effort.\n",
       "- Informative hooks combined with clear, easy-to-follow instructions appeal to viewers' desire for effective health management.\n",
       "- Using humor and personal testimonial (\"Be very careful with these!!\") hooks potential users by balancing caution and intrigue.\n",
       "\n",
       "#### 3) Product Selling Points That Are Resonating:\n",
       "- Emphasis on authenticity and avoiding counterfeits highlights the product's quality, appealing to viewers' desire for genuine solutions.\n",
       "- The ease of use and minimal modification to daily routines presented in straightforward, instructional formats address potential users' needs for convenient health solutions.\n",
       "- Detailed step-by-step guidance on use and benefits, often supported by structured programs, reassure and attract viewers interested in comprehensive health management.\n",
       "- Realistic expectations about the product effects (both challenging and beneficial), showcased through personal testimonials, help in setting credible perceptions and encourage trial.\n",
       "\n",
       "#### 4) Call to Actions That Are Resonating:\n",
       "- Urgent language encouraging immediate purchase effectively creates a sense of scarcity and need.\n",
       "- Calls to follow simple steps (aided by text and minimalistic visuals) make the action steps clear and easy to perform, reducing barriers to purchase.\n",
       "- Direct invitations to start using holistic regimens resonate by promoting health as an ongoing journey, implicitly encouraging product purchase and use.\n",
       "- Personal endorsements paired with compelling visuals and cautionary tales effectively stimulate viewer curiosity and prompt immediate action, while setting realistic expectations of the product experience."
      ],
      "text/plain": [
       "<IPython.core.display.Markdown object>"
      ]
     },
     "metadata": {},
     "output_type": "display_data"
    }
   ],
   "source": [
    "display(display_top_3_videos())\n",
    "display(Markdown(result.choices[0].message.content))"
   ]
  },
  {
   "cell_type": "code",
   "execution_count": 231,
   "id": "033bf9a2-12cd-40bd-a033-663ee7aee899",
   "metadata": {},
   "outputs": [],
   "source": [
    "video = cv2.VideoCapture(\"eval_video.mp4\")\n",
    "\n",
    "base64Frames = []\n",
    "while video.isOpened():\n",
    "    success, frame = video.read()\n",
    "    if not success:\n",
    "        break\n",
    "    _, buffer = cv2.imencode(\".jpg\", frame)\n",
    "    base64Frames.append(base64.b64encode(buffer).decode(\"utf-8\"))\n",
    "\n",
    "video.release()\n",
    "\n",
    "eval_transcript = '''No transcript'''\n",
    "# eval_transcript = transcripts[2]\n",
    "PROMPT_MESSAGES = [\n",
    "    {\n",
    "        \"role\": \"user\",\n",
    "        \"content\": [\n",
    "            f\"Based on this rubric below, give this input video a score out of 10 for each dimension. It's a promo video on TikTok so being casual or unique is a good thing - we're not evaluating professional commercials here. Rate of 4 dimensions: 1) Overall score. 2) Strength of hooks used. 3) Strength of product selling points. 4) Strength of call to action.\\n\\nTranscript of video: {eval_transcript}\\n\\nRubric (a video doesn't need all of these): {rubric}\",\n",
    "            *map(lambda x: {\"image\": x, \"resize\": 768}, base64Frames[0::300])\n",
    "        ],\n",
    "    },\n",
    "]\n",
    "params = {\n",
    "    \"model\": \"gpt-4-turbo\",\n",
    "    \"messages\": PROMPT_MESSAGES,\n",
    "    \"max_tokens\": 2000,\n",
    "}"
   ]
  },
  {
   "cell_type": "code",
   "execution_count": 232,
   "id": "bf6247ce-45ea-4628-9888-fb5c0cc2b0b9",
   "metadata": {},
   "outputs": [
    {
     "data": {
      "text/markdown": [
       "Based on the visual content provided and the details shown in the images from the TikTok video, here’s a possible scoring based on the synthesized insights analysis rubric:\n",
       "\n",
       "### Scoring:\n",
       "\n",
       "#### 1) Overall score:\n",
       "The video seems to focus on displaying the product in a visually appealing, clean, and straightforward manner. The simplicity could appeal to viewers who appreciate clarity and direct product focus. Since the distinctiveness of the content or narrative is unclear from just the images:\n",
       "**Score: 6/10**\n",
       "\n",
       "#### 2) Strength of hooks used:\n",
       "The video uses a very streamlined visual of a product (\"Water Away\" by Mila MicAmor) which doesn't show any dynamic hooks such as problem alerts, emotive appeals, or humor based on the images alone. It's quite simplistic, possibly missing stronger attention-grabbing elements:\n",
       "**Score: 4/10**\n",
       "\n",
       "#### 3) Strength of product selling points:\n",
       "The product seems to be positioned clearly showing its bottle, which may help viewers instantly recognize what is being sold. However, without additional context or insights into product benefits or its unique selling propositions presented within the video:\n",
       "**Score: 5/10**\n",
       "\n",
       "#### 4) Strength of call to action:\n",
       "From the images provided, there is no visible call to action like a prompt to follow a link, use a promo code, or engagement-inviting phrases. This could be a missed opportunity in such advertisement content, especially on a platform like TikTok where actions can greatly influence engagement rates:\n",
       "**Score: 3/10**\n",
       "\n",
       "### Summary:\n",
       "The video focuses on a clean and minimalist presentation which could be attractive in its own right but lacks strong hooks, detailed selling points, and an encouraging call to action based on the visible elements alone. Enhancing these areas could help make the video more compelling and effective in a promotional context on TikTok."
      ],
      "text/plain": [
       "<IPython.core.display.Markdown object>"
      ]
     },
     "metadata": {},
     "output_type": "display_data"
    }
   ],
   "source": [
    "result = client.chat.completions.create(**params)\n",
    "display(Markdown(result.choices[0].message.content))"
   ]
  },
  {
   "cell_type": "code",
   "execution_count": null,
   "id": "8da4947b-cc4b-4b68-bd4c-404325725c15",
   "metadata": {},
   "outputs": [],
   "source": []
  }
 ],
 "metadata": {
  "kernelspec": {
   "display_name": "Python 3 (ipykernel)",
   "language": "python",
   "name": "python3"
  },
  "language_info": {
   "codemirror_mode": {
    "name": "ipython",
    "version": 3
   },
   "file_extension": ".py",
   "mimetype": "text/x-python",
   "name": "python",
   "nbconvert_exporter": "python",
   "pygments_lexer": "ipython3",
   "version": "3.11.5"
  }
 },
 "nbformat": 4,
 "nbformat_minor": 5
}
